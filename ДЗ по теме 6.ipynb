{
 "cells": [
  {
   "cell_type": "code",
   "execution_count": 9,
   "id": "90a43d35-adca-4145-b8a3-58e0643fe52c",
   "metadata": {},
   "outputs": [
    {
     "name": "stdin",
     "output_type": "stream",
     "text": [
      "Введите ваше имя:  Наргиз\n"
     ]
    },
    {
     "name": "stdout",
     "output_type": "stream",
     "text": [
      "Добрый день, Наргиз!\n"
     ]
    },
    {
     "name": "stdin",
     "output_type": "stream",
     "text": [
      "\n",
      " Вы хотите внести сумму(D), снять сумму (W), посмотреть баланс (S), или выйти (E)?  d\n",
      "Введите сумму, которую хотите внести:  128000\n"
     ]
    },
    {
     "name": "stdout",
     "output_type": "stream",
     "text": [
      "128000.0 рублей были внесены на ваш счет.\n"
     ]
    },
    {
     "name": "stdin",
     "output_type": "stream",
     "text": [
      "\n",
      " Вы хотите внести сумму(D), снять сумму (W), посмотреть баланс (S), или выйти (E)?  w\n",
      "Введите сумму, которую хотите снять:  5970\n"
     ]
    },
    {
     "name": "stdout",
     "output_type": "stream",
     "text": [
      " 5970.0 рублей были сняты с вашего счета.\n"
     ]
    },
    {
     "name": "stdin",
     "output_type": "stream",
     "text": [
      "\n",
      " Вы хотите внести сумму(D), снять сумму (W), посмотреть баланс (S), или выйти (E)?  s\n"
     ]
    },
    {
     "name": "stdout",
     "output_type": "stream",
     "text": [
      "\n",
      "Доступно на балансе: 122030.0 рублей\n"
     ]
    },
    {
     "name": "stdin",
     "output_type": "stream",
     "text": [
      "\n",
      " Вы хотите внести сумму(D), снять сумму (W), посмотреть баланс (S), или выйти (E)?  e\n"
     ]
    }
   ],
   "source": [
    "class BankAccount:\n",
    "    def __init__(self, name: str):\n",
    "        self.name = name\n",
    "        self.balance = 0\n",
    "\n",
    "    def deposit(self, amount: float) -> bool:\n",
    "        if amount > 0:\n",
    "            self.balance += amount\n",
    "            return True\n",
    "        return False\n",
    "\n",
    "    def withdraw(self, amount: float) -> bool:\n",
    "        if amount > self.balance or amount < 0:\n",
    "            return False\n",
    "        self.balance -= amount\n",
    "        return True\n",
    "\n",
    "    def display_balance(self):\n",
    "        print(f'\\nДоступно на балансе: {self.balance} рублей')\n",
    "\n",
    "def interface():\n",
    "    print(f'Добрый день, {name}!')\n",
    "    while True:\n",
    "        action = input('\\n Вы хотите внести сумму(D), снять сумму (W), посмотреть баланс (S), или выйти (E)? ').upper()\n",
    "\n",
    "        if action in \"DWSE\":\n",
    "            if action == \"D\":\n",
    "                try:\n",
    "                    deposit_amount = float(input(\"Введите сумму, которую хотите внести: \"))\n",
    "                    if not account.deposit(deposit_amount):\n",
    "                        print(\"Пожалуйста укажите положительную сумму!\")\n",
    "                    else:\n",
    "                        print(f\"{deposit_amount} рублей были внесены на ваш счет.\")\n",
    "                except ValueError:\n",
    "                    print(\"Пожалуйста укажите положительную сумму!\")\n",
    "            if action == \"W\":\n",
    "                try:\n",
    "                    withdraw_amount = float(input(\"Введите сумму, которую хотите снять: \"))\n",
    "                    if not account.withdraw(withdraw_amount):\n",
    "                        print(\"Недостаточно средств для снятия со счета.\")\n",
    "                    else:\n",
    "                        print(f\" {withdraw_amount} рублей были сняты с вашего счета.\")\n",
    "                except ValueError:\n",
    "                    print(\"Пожалуйста укажите положительную сумму!\")\n",
    "            if action == \"S\":\n",
    "                account.display_balance()\n",
    "            if action == \"E\":\n",
    "                break\n",
    "\n",
    "if __name__ == '__main__':\n",
    "    name = input('Введите ваше имя: ')\n",
    "    account = BankAccount(name)\n",
    "    interface()"
   ]
  }
 ],
 "metadata": {
  "kernelspec": {
   "display_name": "Python 3 (ipykernel)",
   "language": "python",
   "name": "python3"
  },
  "language_info": {
   "codemirror_mode": {
    "name": "ipython",
    "version": 3
   },
   "file_extension": ".py",
   "mimetype": "text/x-python",
   "name": "python",
   "nbconvert_exporter": "python",
   "pygments_lexer": "ipython3",
   "version": "3.13.0"
  }
 },
 "nbformat": 4,
 "nbformat_minor": 5
}
