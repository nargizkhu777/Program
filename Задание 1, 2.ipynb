{
 "cells": [
  {
   "cell_type": "code",
   "execution_count": 5,
   "id": "d0f836d7-8ad6-4e3a-8a15-629146d744ce",
   "metadata": {},
   "outputs": [
    {
     "name": "stdout",
     "output_type": "stream",
     "text": [
      "Результат:  {98, 35, 15, 213, 54, 119}\n"
     ]
    }
   ],
   "source": [
    "#Задание 1\n",
    "ids = {'user1': [213, 213, 213, 15, 213],\n",
    "'user2': [54, 54, 119, 119, 119],\n",
    "'user3': [213, 98, 98, 35]}\n",
    "unique_ids = []\n",
    "for value in ids.values():\n",
    "    unique_ids.extend(value)\n",
    "    \n",
    "print(\"Результат: \", set(unique_ids))"
   ]
  },
  {
   "cell_type": "code",
   "execution_count": 1,
   "id": "b235b110-e7fe-4e31-9ef4-748d570c71d0",
   "metadata": {},
   "outputs": [
    {
     "name": "stdout",
     "output_type": "stream",
     "text": [
      "Поисковых запросов, содержащих 2 слов(а): 42.86\n",
      "Поисковых запросов, содержащих 3 слов(а): 57.14\n"
     ]
    }
   ],
   "source": [
    "#Задание 2\n",
    "queries = [\n",
    "'смотреть сериалы онлайн',\n",
    "'новости спорта',\n",
    "'афиша кино',\n",
    "'курс доллара',\n",
    "'сериалы этим летом',\n",
    "'курс по питону',\n",
    "'сериалы про спорт',\n",
    "]\n",
    "set = []\n",
    "for item in queries:\n",
    "    set.append(len(item.split()))\n",
    "i = 1\n",
    "while i <= max(set):\n",
    "    if set.count(i) >0:\n",
    "        print('Поисковых запросов, содержащих', i ,'слов(а):', round(set.count(i)*100/len(set),2))\n",
    "    i = i + 1"
   ]
  }
 ],
 "metadata": {
  "kernelspec": {
   "display_name": "Python 3 (ipykernel)",
   "language": "python",
   "name": "python3"
  },
  "language_info": {
   "codemirror_mode": {
    "name": "ipython",
    "version": 3
   },
   "file_extension": ".py",
   "mimetype": "text/x-python",
   "name": "python",
   "nbconvert_exporter": "python",
   "pygments_lexer": "ipython3",
   "version": "3.13.0"
  }
 },
 "nbformat": 4,
 "nbformat_minor": 5
}
