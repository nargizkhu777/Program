{
 "cells": [
  {
   "cell_type": "code",
   "execution_count": 103,
   "id": "baecc9ea-bd0f-415f-a0d3-f28c91ab7daf",
   "metadata": {},
   "outputs": [
    {
     "name": "stdout",
     "output_type": "stream",
     "text": [
      "{'user_id': 'category', '1840e0b9d4': 'Продукты', '4e4f90fcfb': 'Электроника'}\n"
     ]
    }
   ],
   "source": [
    "#Задание 1.Переведите содержимое файла purchase_log.txt в словарь purchases вида:\n",
    "# {'1840e0b9d4': 'Продукты', ...}\n",
    "\n",
    "import json\n",
    "N = 3\n",
    "slo = {}\n",
    "with open('purchase_log.txt','r', encoding = 'utf-8') as f:\n",
    "    for line in f:\n",
    "        line = line.strip()\n",
    "        slov_ = json.loads(line) \n",
    "        key = slov_['user_id']\n",
    "        value = slov_['category']\n",
    "        if key not in slo:\n",
    "            slo[key] = value\n",
    "        if len(slo) == N:\n",
    "            break\n",
    "print(str(slo))"
   ]
  },
  {
   "cell_type": "code",
   "execution_count": 105,
   "id": "054b9b06-6925-4a5b-ba05-88ed6cdc4aa3",
   "metadata": {},
   "outputs": [
    {
     "name": "stdout",
     "output_type": "stream",
     "text": [
      "bdc8054507,other,Электроника\n"
     ]
    }
   ],
   "source": [
    "#Задание 2. Для каждого user_id в фаaйле visit_log.csv определите третий столбец с категорией покупки. \n",
    "# Если покупка была, сам файл visit_log.csv изменять не надо.\n",
    "# Запишите в файл funnel.csv визиты из файла visit_log.csv, в которых были покупки с указанием категории.\n",
    "import json\n",
    "slo = {} \n",
    "with open('purchase_log.txt', encoding = 'utf-8') as purchases: \n",
    "  for i, line in enumerate(purchases): \n",
    "    slov_ = json.loads(line) \n",
    "    key = slov_['user_id']\n",
    "    value = slov_['category']\n",
    "    slo[key] = value\n",
    "\n",
    "with open('visit_log.csv', 'r', encoding = 'utf-8') as f, open('funnel.csv','w', encoding = 'utf-8') as f_2:\n",
    "  for i, line in enumerate(f):\n",
    "    line = line.strip().split(',')\n",
    "    if line[0] in slo.keys():\n",
    "      line.append(slo[line[0]])\n",
    "      ad_line = ','.join(line)\n",
    "\n",
    "      f_2.write(ad_line + '\\n')\n",
    "\n",
    "print(ad_line)"
   ]
  }
 ],
 "metadata": {
  "kernelspec": {
   "display_name": "Python 3 (ipykernel)",
   "language": "python",
   "name": "python3"
  },
  "language_info": {
   "codemirror_mode": {
    "name": "ipython",
    "version": 3
   },
   "file_extension": ".py",
   "mimetype": "text/x-python",
   "name": "python",
   "nbconvert_exporter": "python",
   "pygments_lexer": "ipython3",
   "version": "3.13.0"
  }
 },
 "nbformat": 4,
 "nbformat_minor": 5
}
