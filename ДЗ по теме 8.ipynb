{
 "cells": [
  {
   "cell_type": "code",
   "execution_count": 4,
   "id": "abf16f6b-772d-4af5-978a-69730e6ae503",
   "metadata": {},
   "outputs": [
    {
     "name": "stdout",
     "output_type": "stream",
     "text": [
      "{'userId': 1, 'id': 1, 'title': 'sunt aut facere repellat provident occaecati excepturi optio reprehenderit', 'body': 'quia et suscipit\\nsuscipit recusandae consequuntur expedita et cum\\nreprehenderit molestiae ut ut quas totam\\nnostrum rerum est autem sunt rem eveniet architecto'} \n",
      "\n",
      "{'userId': 1, 'id': 2, 'title': 'qui est esse', 'body': 'est rerum tempore vitae\\nsequi sint nihil reprehenderit dolor beatae ea dolores neque\\nfugiat blanditiis voluptate porro vel nihil molestiae ut reiciendis\\nqui aperiam non debitis possimus qui neque nisi nulla'} \n",
      "\n",
      "{'userId': 1, 'id': 3, 'title': 'ea molestias quasi exercitationem repellat qui ipsa sit aut', 'body': 'et iusto sed quo iure\\nvoluptatem occaecati omnis eligendi aut ad\\nvoluptatem doloribus vel accusantium quis pariatur\\nmolestiae porro eius odio et labore et velit aut'} \n",
      "\n",
      "{'userId': 1, 'id': 4, 'title': 'eum et est occaecati', 'body': 'ullam et saepe reiciendis voluptatem adipisci\\nsit amet autem assumenda provident rerum culpa\\nquis hic commodi nesciunt rem tenetur doloremque ipsam iure\\nquis sunt voluptatem rerum illo velit'} \n",
      "\n",
      "{'userId': 1, 'id': 5, 'title': 'nesciunt quas odio', 'body': 'repudiandae veniam quaerat sunt sed\\nalias aut fugiat sit autem sed est\\nvoluptatem omnis possimus esse voluptatibus quis\\nest aut tenetur dolor neque'} \n",
      "\n"
     ]
    }
   ],
   "source": [
    "# Задание 1.GET-запрос к /posts\n",
    "import requests\n",
    "url = \"https://jsonplaceholder.typicode.com/posts/\"\n",
    "data = {\"id\": [1, 2, 3, 4, 5]}\n",
    "response = requests.get(url, params=data)\n",
    "response_json = response.json()\n",
    "for i in response_json:\n",
    "    print(i, \"\\n\")"
   ]
  },
  {
   "cell_type": "code",
   "execution_count": 44,
   "id": "e35d6157-331a-4984-84b4-071d5604cb9f",
   "metadata": {},
   "outputs": [
    {
     "name": "stdin",
     "output_type": "stream",
     "text": [
      "Введите название города:  Уфа\n"
     ]
    },
    {
     "name": "stdout",
     "output_type": "stream",
     "text": [
      "Сейчас в городе -3.35 °C\n",
      "Атмосферное давление составляет: 993 гПа\n",
      "Атмосферное давление равно: 744.755958 мм.рт.ст.\n",
      "Погодные условия: небольшой снег\n"
     ]
    }
   ],
   "source": [
    "# Задание 2\n",
    "import requests\n",
    "import json\n",
    "API_Key = \"0cf194d98a47d0191c726f3336e13638\"\n",
    "city_name = input(\"Введите название города: \")\n",
    "url = f\"http://api.openweathermap.org/data/2.5/weather?q={city_name}&appid={API_Key}&units=metric&lang=ru\"\n",
    "response = requests.get(url)\n",
    "res = response.json()\n",
    "if res[\"cod\"] != \"404\":\n",
    "   data = res[\"main\"]\n",
    " \n",
    "   live_temperature = data[\"temp\"]\n",
    " \n",
    "   live_pressure = data[\"pressure\"]\n",
    "   atmos = live_pressure * 7.50006/10\n",
    "   desc = res[\"weather\"]\n",
    "   weather_description = desc[0][\"description\"]\n",
    "   print(\"Сейчас в городе \" + str(live_temperature) + \" °C\")\n",
    "   print(\"Атмосферное давление составляет: \" + str(live_pressure) + \" гПа\")\n",
    "   print (\"Атмосферное давление равно: \" + str(atmos) + \" мм.рт.ст.\")\n",
    "   print(\"Погодные условия: \" + str(weather_description))\n",
    " \n",
    "else:\n",
    "   print(\"Введите корректное название города!\")"
   ]
  }
 ],
 "metadata": {
  "kernelspec": {
   "display_name": "Python 3 (ipykernel)",
   "language": "python",
   "name": "python3"
  },
  "language_info": {
   "codemirror_mode": {
    "name": "ipython",
    "version": 3
   },
   "file_extension": ".py",
   "mimetype": "text/x-python",
   "name": "python",
   "nbconvert_exporter": "python",
   "pygments_lexer": "ipython3",
   "version": "3.13.0"
  }
 },
 "nbformat": 4,
 "nbformat_minor": 5
}
