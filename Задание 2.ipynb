{
 "cells": [
  {
   "cell_type": "code",
   "execution_count": 1,
   "id": "9ccd1971-ecfa-46ab-af62-25a356bb6c56",
   "metadata": {},
   "outputs": [
    {
     "name": "stdout",
     "output_type": "stream",
     "text": [
      "Идеальные пары:\n",
      "Alex и Emma\n",
      "Arthur и Kate\n",
      "John и Kira\n",
      "Peter и Liza\n",
      "Richard и Trisha\n"
     ]
    }
   ],
   "source": [
    "#Задание 2.1\n",
    "i = 0\n",
    "boys = ['Peter', 'Alex', 'John', 'Arthur', 'Richard']\n",
    "girls = ['Kate', 'Liza', 'Kira', 'Emma', 'Trisha']\n",
    "if len(boys) != len(girls):\n",
    "    print(\"Внимание, кто-то может остаться без пары!\")\n",
    "else:\n",
    "         boys_sorted=sorted(boys)\n",
    "         girls_sorted=sorted(girls)\n",
    "         print(\"Идеальные пары:\")\n",
    "         while i < len(boys_sorted):\n",
    "             print(boys_sorted[i],'и',girls_sorted[i] )\n",
    "             i=i+1"
   ]
  },
  {
   "cell_type": "code",
   "execution_count": 2,
   "id": "c39d9191-888b-4402-854b-0d357c775957",
   "metadata": {},
   "outputs": [
    {
     "name": "stdout",
     "output_type": "stream",
     "text": [
      "Внимание, кто-то может остаться без пары!\n"
     ]
    }
   ],
   "source": [
    "#Задание 2.2\n",
    "i = 0\n",
    "boys = ['Peter', 'Alex', 'John', 'Arthur', 'Richard', 'Michael']\n",
    "girls = ['Kate', 'Liza', 'Kira', 'Emma', 'Trisha']\n",
    "if len(boys) != len(girls):\n",
    "    print(\"Внимание, кто-то может остаться без пары!\")\n",
    "else:\n",
    "         boys_sorted=sorted(boys)\n",
    "         girls_sorted=sorted(girls)\n",
    "         print(\"Идеальные пары:\")\n",
    "         while i < len(boys_sorted):\n",
    "             print(boys_sorted[i],'и',girls_sorted[i] )\n",
    "             i=i+1"
   ]
  },
  {
   "cell_type": "code",
   "execution_count": null,
   "id": "87c9110f-cb35-4be9-8609-38029a20b61a",
   "metadata": {},
   "outputs": [],
   "source": []
  }
 ],
 "metadata": {
  "kernelspec": {
   "display_name": "Python 3 (ipykernel)",
   "language": "python",
   "name": "python3"
  },
  "language_info": {
   "codemirror_mode": {
    "name": "ipython",
    "version": 3
   },
   "file_extension": ".py",
   "mimetype": "text/x-python",
   "name": "python",
   "nbconvert_exporter": "python",
   "pygments_lexer": "ipython3",
   "version": "3.13.0"
  }
 },
 "nbformat": 4,
 "nbformat_minor": 5
}
