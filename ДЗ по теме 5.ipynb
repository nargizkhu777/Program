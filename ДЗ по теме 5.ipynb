{
 "cells": [
  {
   "cell_type": "code",
   "execution_count": 24,
   "id": "71edd7bf-cc8c-42ae-aaba-8581ce8dcb8d",
   "metadata": {},
   "outputs": [],
   "source": [
    "#Задание1. Печатные газеты использовали свой формат дат для каждого выпуска. Для каждой газеты из списка напишите формат \n",
    "#указанной даты для перевода в объект datetime:\n",
    "#The Moscow Times - Wednesday, October 2, 2002\n",
    "#The Guardian - Friday, 11.10.13\n",
    "#Daily News - Thursday, 18 August 1977\n",
    "\n",
    "from datetime import timedelta\n",
    "from datetime import datetime\n",
    "TheMoscowTimes = datetime.strptime('Wednesday, October 2, 2002', '%A, %B %d, %Y')\n",
    "TheGuardian = datetime.strptime('Friday, 11.10.13', '%A, %d.%m.%y')\n",
    "DailyNews = datetime.strptime('Thursday, 18 August 1977', '%A, %d %B %Y')"
   ]
  },
  {
   "cell_type": "code",
   "execution_count": 25,
   "id": "98990918-dfa8-4b1f-80e7-9ad1da7362a2",
   "metadata": {},
   "outputs": [
    {
     "data": {
      "text/plain": [
       "datetime.datetime(2002, 10, 2, 0, 0)"
      ]
     },
     "execution_count": 25,
     "metadata": {},
     "output_type": "execute_result"
    }
   ],
   "source": [
    "TheMoscowTimes"
   ]
  },
  {
   "cell_type": "code",
   "execution_count": 26,
   "id": "98bc42b0-0ec3-437f-a515-09f3973d8086",
   "metadata": {},
   "outputs": [
    {
     "data": {
      "text/plain": [
       "datetime.datetime(2013, 10, 11, 0, 0)"
      ]
     },
     "execution_count": 26,
     "metadata": {},
     "output_type": "execute_result"
    }
   ],
   "source": [
    "TheGuardian"
   ]
  },
  {
   "cell_type": "code",
   "execution_count": 27,
   "id": "ff835e35-0e47-4549-aa85-4c0c5a20d793",
   "metadata": {},
   "outputs": [
    {
     "data": {
      "text/plain": [
       "datetime.datetime(1977, 8, 18, 0, 0)"
      ]
     },
     "execution_count": 27,
     "metadata": {},
     "output_type": "execute_result"
    }
   ],
   "source": [
    "DailyNews"
   ]
  },
  {
   "cell_type": "code",
   "execution_count": 31,
   "id": "604d7ab6-5434-446d-ac6e-1f07f73ea8f6",
   "metadata": {},
   "outputs": [
    {
     "name": "stdin",
     "output_type": "stream",
     "text": [
      "Введите начальную дату в формате YYYY-MM-DD:  2022-11-10\n",
      "Введите конечную дату в формате YYYY-MM-DD:  2022-11-16\n"
     ]
    },
    {
     "data": {
      "text/plain": [
       "['2022-11-11',\n",
       " '2022-11-12',\n",
       " '2022-11-13',\n",
       " '2022-11-14',\n",
       " '2022-11-15',\n",
       " '2022-11-16',\n",
       " '2022-11-17']"
      ]
     },
     "execution_count": 31,
     "metadata": {},
     "output_type": "execute_result"
    }
   ],
   "source": [
    "#Задание2. Напишите функцию date_range, которая возвращает список дат за период от start_date до end_date. \n",
    "#Даты должны вводиться в формате YYYY-MM-DD. \n",
    "#В случае неверного формата или при start_date > end_date должен возвращаться пустой список.\n",
    "\n",
    "start_date = input('Введите начальную дату в формате YYYY-MM-DD: ')\n",
    "end_date = input('Введите конечную дату в формате YYYY-MM-DD: ')\n",
    "def date_range(start, end):\n",
    "    start_datetime=datetime.strptime(start,'%Y-%m-%d')\n",
    "    end_datetime=datetime.strptime(end,'%Y-%m-%d')\n",
    "    list_dates = []\n",
    "    if start_datetime < end_datetime:\n",
    "        mid_datetime = start_datetime\n",
    "        while mid_datetime <= end_datetime:\n",
    "            mid_datetime = mid_datetime+timedelta(days=1)\n",
    "            print_datetime = datetime.strftime(mid_datetime,'%Y-%m-%d')\n",
    "            list_dates.append(print_datetime)\n",
    "    return(list_dates)\n",
    "date_range(start_date, end_date)"
   ]
  }
 ],
 "metadata": {
  "kernelspec": {
   "display_name": "Python 3 (ipykernel)",
   "language": "python",
   "name": "python3"
  },
  "language_info": {
   "codemirror_mode": {
    "name": "ipython",
    "version": 3
   },
   "file_extension": ".py",
   "mimetype": "text/x-python",
   "name": "python",
   "nbconvert_exporter": "python",
   "pygments_lexer": "ipython3",
   "version": "3.13.0"
  }
 },
 "nbformat": 4,
 "nbformat_minor": 5
}
