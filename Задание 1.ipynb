{
 "cells": [
  {
   "cell_type": "code",
   "execution_count": 4,
   "id": "658c12cc-3706-43ce-a4a2-463f1d5a13cc",
   "metadata": {},
   "outputs": [
    {
     "name": "stdout",
     "output_type": "stream",
     "text": [
      "es\n"
     ]
    }
   ],
   "source": [
    "#Задание 1.1\n",
    "word = 'test'\n",
    "\n",
    "if len(word)%2 == 1:\n",
    "    print(word[len(word)//2])\n",
    "else:\n",
    "     print(word[len(word)//2-1: len(word)//2+1])"
   ]
  },
  {
   "cell_type": "code",
   "execution_count": 5,
   "id": "3d3ce337-3d01-4d02-be92-abc4a5b2777b",
   "metadata": {},
   "outputs": [
    {
     "name": "stdout",
     "output_type": "stream",
     "text": [
      "t\n"
     ]
    }
   ],
   "source": [
    "#Задание 1.2\n",
    "word = 'testing'\n",
    "\n",
    "if len(word)%2 == 1:\n",
    "    print(word[len(word)//2])\n",
    "else:\n",
    "     print(word[len(word)//2-1: len(word)//2+1])"
   ]
  },
  {
   "cell_type": "code",
   "execution_count": null,
   "id": "a89055d4-a088-4167-bc13-8248a20e8585",
   "metadata": {},
   "outputs": [],
   "source": []
  }
 ],
 "metadata": {
  "kernelspec": {
   "display_name": "Python 3 (ipykernel)",
   "language": "python",
   "name": "python3"
  },
  "language_info": {
   "codemirror_mode": {
    "name": "ipython",
    "version": 3
   },
   "file_extension": ".py",
   "mimetype": "text/x-python",
   "name": "python",
   "nbconvert_exporter": "python",
   "pygments_lexer": "ipython3",
   "version": "3.13.0"
  }
 },
 "nbformat": 4,
 "nbformat_minor": 5
}
