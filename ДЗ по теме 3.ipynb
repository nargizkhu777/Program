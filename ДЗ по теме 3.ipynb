{
 "cells": [
  {
   "cell_type": "code",
   "execution_count": 14,
   "id": "52ed47a1-fda1-4ce6-8078-73f80ddd3f3f",
   "metadata": {},
   "outputs": [
    {
     "name": "stdout",
     "output_type": "stream",
     "text": [
      "56\n",
      "18\n",
      "25\n"
     ]
    }
   ],
   "source": [
    "# Задание 1. Реализуйте функцию sum_distance(from, to), которая суммирует все числа от\n",
    "# значения from до величины to включительно.\n",
    "# Примечание. Если пользователь задаст первое число, которое окажется больше второго, просто поменяйте их местами.\n",
    "\n",
    "def sum_distance(from_, to_):\n",
    "    if from_ > to_:\n",
    "        to_, from_ = from_, to_\n",
    "    return sum(range(from_, to_ + 1))\n",
    "    \n",
    "print(sum_distance(5, 11))\n",
    "print(sum_distance(-2, 6))\n",
    "print(sum_distance(7, 3))"
   ]
  },
  {
   "cell_type": "code",
   "execution_count": 15,
   "id": "03f5a95e-7895-43ae-9508-ec76fc1bed28",
   "metadata": {},
   "outputs": [
    {
     "name": "stdout",
     "output_type": "stream",
     "text": [
      "jupyter\n",
      "terterter\n",
      "jupyterjupyter\n"
     ]
    }
   ],
   "source": [
    "# Задание 2. Реализуйте функцию trim_and_repeat(), которая принимает три параметра:\n",
    "# ● строку;\n",
    "# ● offset — число символов, на которое нужно обрезать строку слева;\n",
    "# ● repetitions — сколько раз нужно повторить строку перед возвратом получившейся строки.\n",
    "# Число символов для среза по умолчанию равно 0, а количество повторений — 1. Функция должна возвращать полученную строку\n",
    "\n",
    "def trim_and_repeat(text, offset, repetitions):\n",
    "    return f'{text[offset:] * repetitions}'\n",
    "print(trim_and_repeat('jupyter',0 , 1))\n",
    "print(trim_and_repeat('jupyter',4 , 3))\n",
    "print(trim_and_repeat('jupyter',0 , 2))"
   ]
  }
 ],
 "metadata": {
  "kernelspec": {
   "display_name": "Python 3 (ipykernel)",
   "language": "python",
   "name": "python3"
  },
  "language_info": {
   "codemirror_mode": {
    "name": "ipython",
    "version": 3
   },
   "file_extension": ".py",
   "mimetype": "text/x-python",
   "name": "python",
   "nbconvert_exporter": "python",
   "pygments_lexer": "ipython3",
   "version": "3.13.0"
  }
 },
 "nbformat": 4,
 "nbformat_minor": 5
}
